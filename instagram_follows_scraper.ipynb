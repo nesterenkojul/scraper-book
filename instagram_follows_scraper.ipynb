{
 "cells": [
  {
   "cell_type": "markdown",
   "id": "f05e93b7",
   "metadata": {},
   "source": [
    "# Followers/followings lists of an Instagram account"
   ]
  },
  {
   "cell_type": "code",
   "execution_count": null,
   "id": "f9725ffe",
   "metadata": {
    "collapsed": true
   },
   "outputs": [],
   "source": [
    "pip install selenium webdriver_manager"
   ]
  },
  {
   "cell_type": "code",
   "execution_count": 2,
   "id": "18283503",
   "metadata": {},
   "outputs": [],
   "source": [
    "import pandas as pd\n",
    "import re\n",
    "from time import sleep\n",
    "import os\n",
    "import logging\n",
    "\n",
    "from selenium import webdriver\n",
    "from selenium.webdriver.common.by import By\n",
    "from selenium.webdriver.chrome.service import Service"
   ]
  },
  {
   "cell_type": "code",
   "execution_count": 3,
   "id": "24377318",
   "metadata": {},
   "outputs": [],
   "source": [
    "# Constants\n",
    "username = \"...\"\n",
    "password = \"...\""
   ]
  },
  {
   "cell_type": "code",
   "execution_count": 4,
   "id": "c481331e",
   "metadata": {},
   "outputs": [],
   "source": [
    "# Silent download of drivers\n",
    "logging.getLogger('WDM').setLevel(logging.NOTSET)\n",
    "os.environ['WDM_LOG'] = 'False'\n",
    "\n",
    "# Driver set-up\n",
    "service = Service()\n",
    "options = webdriver.ChromeOptions()\n",
    "driver = webdriver.Chrome(service=service, options=options)"
   ]
  },
  {
   "cell_type": "code",
   "execution_count": 12,
   "id": "0bcb794d",
   "metadata": {},
   "outputs": [],
   "source": [
    "# Log in and make the profile page fully functional\n",
    "def access_page(page_url):\n",
    "    driver.get(page_url)\n",
    "    sleep(2)\n",
    "    try:\n",
    "        driver.find_element(By.XPATH, \"//a[contains(text(),'Log in')]\").click()\n",
    "        sleep(2)\n",
    "        driver.find_element(By.XPATH, \"//input[@aria-label='Phone number, username or email address']\").send_keys(username) \n",
    "        sleep(1)\n",
    "        driver.find_element(By.XPATH, \"//input[@aria-label='Password']\").send_keys(password)   \n",
    "        sleep(1)\n",
    "        driver.find_element(By.XPATH, '//button[@type=\"submit\"]').click()\n",
    "        sleep(5)\n",
    "    except:\n",
    "        return\n",
    "    \n",
    "    try:\n",
    "        driver.find_element(By.XPATH, \"//div[contains(text(),'Not now')]\").click()\n",
    "    except:\n",
    "        return"
   ]
  },
  {
   "cell_type": "code",
   "execution_count": 13,
   "id": "420f006b",
   "metadata": {},
   "outputs": [],
   "source": [
    "# Scroll the inner pop-up window to get all followers/followings\n",
    "def inner_scroll():\n",
    "    inner_window = driver.find_element(By.XPATH, \"//div[@class='_aano']\")\n",
    "    counter = len(driver.find_elements(By.XPATH, \"//button\"))\n",
    "    while True:\n",
    "        driver.execute_script(\n",
    "            'arguments[0].scrollTop = arguments[0].scrollTop + document.querySelector(\"._aano\").scrollHeight;',\n",
    "            inner_window,\n",
    "        )\n",
    "        sleep(3)\n",
    "        local_counter = len(driver.find_elements(By.XPATH, \"//button\"))\n",
    "        # stop when the count of 'subscribe' buttons doesn't change\n",
    "        if local_counter == counter:\n",
    "            break\n",
    "        counter = local_counter"
   ]
  },
  {
   "cell_type": "code",
   "execution_count": 14,
   "id": "46426adb",
   "metadata": {},
   "outputs": [],
   "source": [
    "\"\"\" \n",
    "Main function\n",
    "- option is either 'followers' or 'following'\n",
    "\"\"\" \n",
    "def get_follows(option, page_url): \n",
    "    access_page(page_url)\n",
    "    sleep(5)\n",
    "    #driver.find_element(By.XPATH, \"//span[contains(text(),'followers')]\").click()\n",
    "    driver.find_element(By.PARTIAL_LINK_TEXT, option).click()\n",
    "    sleep(3)\n",
    "    \n",
    "    # scrolling down the pop-up window\n",
    "    inner_scroll()\n",
    "    \n",
    "    links = driver.find_elements(By.XPATH, \"//a[@role='link']\")\n",
    "    # all links on page\n",
    "    urls = [f.get_attribute('href') for f in links]  \n",
    "    # only links to profiles\n",
    "    follows_urls = list(filter(\n",
    "    lambda x: (x.count('/') == 4) and \n",
    "        (not re.search(f\"/explore/|/reels/|/inbox/|/followers/|/following/|/{username}/|/p/|/web/|/legal/|threads|facebook|/about/\", x)), \n",
    "                      list(set(urls))\n",
    "                          )\n",
    "                     )\n",
    "    return follows_urls"
   ]
  },
  {
   "cell_type": "code",
   "execution_count": null,
   "id": "23a421a3",
   "metadata": {},
   "outputs": [],
   "source": [
    "profile = \"https://www.instagram.com/.../\""
   ]
  },
  {
   "cell_type": "code",
   "execution_count": null,
   "id": "6538317e",
   "metadata": {
    "scrolled": true
   },
   "outputs": [],
   "source": [
    "followers = get_follows(\"followers\", profile)\n",
    "followers"
   ]
  },
  {
   "cell_type": "code",
   "execution_count": 9,
   "id": "c7069dc0",
   "metadata": {},
   "outputs": [
    {
     "data": {
      "text/plain": [
       "34"
      ]
     },
     "execution_count": 9,
     "metadata": {},
     "output_type": "execute_result"
    }
   ],
   "source": [
    "len(followers)"
   ]
  },
  {
   "cell_type": "code",
   "execution_count": null,
   "id": "d1bfafce",
   "metadata": {
    "scrolled": true
   },
   "outputs": [],
   "source": [
    "followings = get_follows(\"following\", profile)\n",
    "followings"
   ]
  },
  {
   "cell_type": "code",
   "execution_count": 16,
   "id": "c9d20985",
   "metadata": {},
   "outputs": [
    {
     "data": {
      "text/plain": [
       "69"
      ]
     },
     "execution_count": 16,
     "metadata": {},
     "output_type": "execute_result"
    }
   ],
   "source": [
    "len(followings)"
   ]
  }
 ],
 "metadata": {
  "kernelspec": {
   "display_name": "Python 3 (ipykernel)",
   "language": "python",
   "name": "python3"
  },
  "language_info": {
   "codemirror_mode": {
    "name": "ipython",
    "version": 3
   },
   "file_extension": ".py",
   "mimetype": "text/x-python",
   "name": "python",
   "nbconvert_exporter": "python",
   "pygments_lexer": "ipython3",
   "version": "3.10.1"
  }
 },
 "nbformat": 4,
 "nbformat_minor": 5
}

{
  "cells": [
    {
      "cell_type": "markdown",
      "metadata": {},
      "source": [
        "# National Dishes List from Wikipedia"
      ]
    },
    {
      "cell_type": "code",
      "execution_count": null,
      "metadata": {
        "id": "KitX8kmqKTfb"
      },
      "outputs": [],
      "source": [
        "from bs4 import BeautifulSoup\n",
        "import requests\n",
        "import pandas as pd"
      ]
    },
    {
      "cell_type": "code",
      "execution_count": null,
      "metadata": {
        "id": "H3Cn4jr1Lgh1"
      },
      "outputs": [],
      "source": [
        "def parse_all_dishes(page):\n",
        "    try:\n",
        "        r = requests.get(f\"https://en.wikipedia.org/w/index.php?title=Category:National_dishes&page{page}=Polenta#mw-pages\")\n",
        "        page = BeautifulSoup(r.text, 'html.parser')\n",
        "        #ingredients = page.findAll('div')[-14].attrs['data-recipe_food_main_ingredients'].split(',')\n",
        "        groups = page.find_all(class_=\"mw-category-group\")\n",
        "        dishes_links = []\n",
        "        for group in groups:\n",
        "          elements = map(lambda x: x.a.get('href'), group.find_all('li'))\n",
        "          dishes_links.extend(elements)\n",
        "        dishes_links = list(filter(lambda x: 'Category' not in x, dishes_links))\n",
        "        return dishes_links[1:]\n",
        "       \n",
        "    except Exception as e:\n",
        "        if e is ConnectionError:\n",
        "            return \"ConErr\"\n",
        "        return None"
      ]
    },
    {
      "cell_type": "code",
      "execution_count": null,
      "metadata": {
        "id": "da8vkF-AVeNh"
      },
      "outputs": [],
      "source": [
        "all_dishes_links = parse_all_dishes('until') + parse_all_dishes('from')"
      ]
    },
    {
      "cell_type": "code",
      "execution_count": null,
      "metadata": {
        "id": "cAREJGsSbNxV"
      },
      "outputs": [],
      "source": [
        "def parse_dish_info(link):\n",
        "  try:\n",
        "        r = requests.get(f\"https://en.wikipedia.org/{link}\")\n",
        "        page = BeautifulSoup(r.text, 'html.parser')\n",
        "        dish_info = {\"Name\": page.title.text.split('-')[0].strip(), \"Country\": None, \"Course\": None, \"Serving temperature\": None, \"Main ingredients\": None}\n",
        "        #ingredients = page.findAll('div')[-14].attrs['data-recipe_food_main_ingredients'].split(',')\n",
        "        groups = page.find_all('tr')\n",
        "        points = list(filter(lambda group: group.find('th', class_=\"infobox-label\"), groups))\n",
        "        for point in points:\n",
        "          if point.th.text == \"Place of origin\" or (point.th.text == \"Region or state\" and not dish_info[\"Country\"]):\n",
        "            dish_info[\"Country\"] = point.td.a.text if point.td.a else point.td.text\n",
        "          if point.th.text == \"Course\":\n",
        "            dish_info[\"Course\"] = point.td.a.text if point.td.a else point.td.text\n",
        "          if point.th.text == \"Serving temperature\":\n",
        "            dish_info[\"Serving temperature\"] = point.td.text\n",
        "          if point.th.text == \"Main ingredients\":\n",
        "            ingredients = list(map(lambda x: x.text.capitalize(), point.td.find_all('a')))\n",
        "            dish_info[\"Main ingredients\"] = ingredients\n",
        "        return dish_info\n",
        "\n",
        "  except Exception as e:\n",
        "        if e is ConnectionError:\n",
        "            return \"ConErr\"\n",
        "        return None"
      ]
    },
    {
      "cell_type": "code",
      "execution_count": null,
      "metadata": {
        "id": "srRkYCwFb42J"
      },
      "outputs": [],
      "source": [
        "all_dishes_info = [parse_dish_info(link) for link in all_dishes_links]\n",
        "dishes_df = pd.DataFrame(all_dishes_info)"
      ]
    },
    {
      "cell_type": "code",
      "execution_count": null,
      "metadata": {
        "id": "tK8GKwkuo4kQ"
      },
      "outputs": [],
      "source": [
        "dishes_df.to_csv(\"national_dishes.csv\")"
      ]
    }
  ],
  "metadata": {
    "colab": {
      "provenance": []
    },
    "kernelspec": {
      "display_name": "Python 3",
      "name": "python3"
    },
    "language_info": {
      "name": "python"
    }
  },
  "nbformat": 4,
  "nbformat_minor": 0
}
